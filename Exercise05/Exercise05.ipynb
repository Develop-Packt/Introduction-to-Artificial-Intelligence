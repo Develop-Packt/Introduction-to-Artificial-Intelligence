{
 "cells": [
  {
   "cell_type": "code",
   "execution_count": 1,
   "metadata": {
    "colab": {},
    "colab_type": "code",
    "id": "xvkyi-m4JrrS"
   },
   "outputs": [],
   "source": [
    "import math\n",
    "\n",
    "size = (7, 9)\n",
    "start = (5, 3)\n",
    "end = (6, 9)\n",
    "obstacles = {\n",
    "    (3, 4), (3, 5), (3, 6), (3, 7), (3, 8),\n",
    "    (4, 5),\n",
    "    (5, 5), (5, 7), (5, 9),\n",
    "    (6, 2), (6, 3), (6, 4), (6, 5), (6, 7),\n",
    "    (7, 7)\n",
    "}\n",
    "\n",
    "def successors(state, visited_nodes):\n",
    "    (row, col) = state\n",
    "    (max_row, max_col) = size\n",
    "    succ_states = []\n",
    "    if row > 1:\n",
    "        succ_states += [(row-1, col)]\n",
    "    if col > 1:\n",
    "        succ_states += [(row, col-1)]\n",
    "    if row < max_row:\n",
    "        succ_states += [(row+1, col)]\n",
    "    if col < max_col:\n",
    "        succ_states += [(row, col+1)]\n",
    "    return [s for s in succ_states if s not in visited_nodes if s not in obstacles]\n",
    "\n",
    "def initialize_costs(size, start):\n",
    "    (h, w) = size\n",
    "    costs = [[math.inf] * w for i in range(h)]\n",
    "    (x, y) = start\n",
    "    costs[x-1][y-1] = 0\n",
    "    return costs\n",
    "\n",
    "def update_costs(costs, current_node, successor_nodes):\n",
    "    new_cost = costs[current_node[0]-1][current_node[1]-1] + 1\n",
    "    for (x, y) in successor_nodes:\n",
    "        costs[x-1][y-1] = min(costs[x-1][y-1], new_cost)\n",
    "\n",
    "def bfs_tree(node):\n",
    "    nodes_to_visit = [node]\n",
    "    visited_nodes = []\n",
    "    costs = initialize_costs(size, start)\n",
    "    while len(nodes_to_visit) > 0:\n",
    "        current_node = nodes_to_visit.pop(0)\n",
    "        visited_nodes.append(current_node)\n",
    "        successor_nodes = successors(current_node, visited_nodes)\n",
    "        update_costs(costs, current_node, successor_nodes)\n",
    "        nodes_to_visit.extend(successor_nodes)\n",
    "    return costs"
   ]
  },
  {
   "cell_type": "code",
   "execution_count": 2,
   "metadata": {
    "colab": {
     "base_uri": "https://localhost:8080/",
     "height": 136
    },
    "colab_type": "code",
    "id": "pV7EU-TIJrrY",
    "outputId": "9d3207f4-26b5-447d-8263-14918e31a3ca"
   },
   "outputs": [
    {
     "data": {
      "text/plain": [
       "[[6, 5, 4, 5, 6, 7, 8, 9, 10],\n",
       " [5, 4, 3, 4, 5, 6, 7, 8, 9],\n",
       " [4, 3, 2, inf, inf, inf, inf, inf, 10],\n",
       " [3, 2, 1, 2, inf, 12, 13, 12, 11],\n",
       " [2, 1, 0, 1, inf, 11, inf, 13, inf],\n",
       " [3, inf, inf, inf, inf, 10, inf, 14, 15],\n",
       " [4, 5, 6, 7, 8, 9, inf, 15, 16]]"
      ]
     },
     "execution_count": 2,
     "metadata": {},
     "output_type": "execute_result"
    }
   ],
   "source": [
    "bfs = bfs_tree(start)\n",
    "bfs"
   ]
  },
  {
   "cell_type": "code",
   "execution_count": 3,
   "metadata": {
    "colab": {},
    "colab_type": "code",
    "id": "SFE4pvCrJrrc"
   },
   "outputs": [],
   "source": [
    "def bfs_tree_verbose(node):\n",
    "    nodes_to_visit = [node]\n",
    "    visited_nodes = []\n",
    "    costs = initialize_costs(size, start)\n",
    "    step_counter = 0\n",
    "    while len(nodes_to_visit) > 0:\n",
    "        step_counter += 1\n",
    "        current_node = nodes_to_visit.pop(0)\n",
    "        visited_nodes.append(current_node)\n",
    "        successor_nodes = successors(current_node, visited_nodes)\n",
    "        update_costs(costs, current_node, successor_nodes)\n",
    "        nodes_to_visit.extend(successor_nodes)\n",
    "        if current_node == end:\n",
    "            print('End node has been reached in ', step_counter, ' steps')\n",
    "            return costs\n",
    "    return costs"
   ]
  },
  {
   "cell_type": "code",
   "execution_count": 4,
   "metadata": {
    "colab": {
     "base_uri": "https://localhost:8080/",
     "height": 153
    },
    "colab_type": "code",
    "id": "axm176T0Jrrf",
    "outputId": "884dba3f-db0c-4d55-ce09-28cc1a80e821"
   },
   "outputs": [
    {
     "name": "stdout",
     "output_type": "stream",
     "text": [
      "End node has been reached in  110  steps\n"
     ]
    },
    {
     "data": {
      "text/plain": [
       "[[6, 5, 4, 5, 6, 7, 8, 9, 10],\n",
       " [5, 4, 3, 4, 5, 6, 7, 8, 9],\n",
       " [4, 3, 2, inf, inf, inf, inf, inf, 10],\n",
       " [3, 2, 1, 2, inf, 12, 13, 12, 11],\n",
       " [2, 1, 0, 1, inf, 11, inf, 13, inf],\n",
       " [3, inf, inf, inf, inf, 10, inf, 14, 15],\n",
       " [4, 5, 6, 7, 8, 9, inf, 15, 16]]"
      ]
     },
     "execution_count": 4,
     "metadata": {},
     "output_type": "execute_result"
    }
   ],
   "source": [
    "bfs_v = bfs_tree_verbose(start)\n",
    "bfs_v"
   ]
  }
 ],
 "metadata": {
  "colab": {
   "collapsed_sections": [],
   "name": "Exercise 1.05 Finding the Shortest Path Using BFS.ipynb",
   "provenance": []
  },
  "kernelspec": {
   "display_name": "Python 3",
   "language": "python",
   "name": "python3"
  },
  "language_info": {
   "codemirror_mode": {
    "name": "ipython",
    "version": 3
   },
   "file_extension": ".py",
   "mimetype": "text/x-python",
   "name": "python",
   "nbconvert_exporter": "python",
   "pygments_lexer": "ipython3",
   "version": "3.7.6"
  }
 },
 "nbformat": 4,
 "nbformat_minor": 1
}
